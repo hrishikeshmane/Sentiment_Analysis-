{
  "nbformat": 4,
  "nbformat_minor": 0,
  "metadata": {
    "colab": {
      "name": "Sentiment_Analysis.ipynb",
      "version": "0.3.2",
      "provenance": [],
      "collapsed_sections": [],
      "include_colab_link": true
    },
    "kernelspec": {
      "name": "python3",
      "display_name": "Python 3"
    },
    "accelerator": "GPU"
  },
  "cells": [
    {
      "cell_type": "markdown",
      "metadata": {
        "id": "view-in-github",
        "colab_type": "text"
      },
      "source": [
        "<a href=\"https://colab.research.google.com/github/hrishikeshmane/Sentiment_Analysis-/blob/master/Sentiment_Analysis.ipynb\" target=\"_parent\"><img src=\"https://colab.research.google.com/assets/colab-badge.svg\" alt=\"Open In Colab\"/></a>"
      ]
    },
    {
      "metadata": {
        "id": "26pA_5itCZv7",
        "colab_type": "code",
        "outputId": "3e314e12-8a89-4664-caad-cf81ef0be2ef",
        "colab": {
          "base_uri": "https://localhost:8080/",
          "height": 314
        }
      },
      "cell_type": "code",
      "source": [
        "!pip install pandas\n",
        "!pip install tweepy\n",
        "!pip install vaderSentiment"
      ],
      "execution_count": 38,
      "outputs": [
        {
          "output_type": "stream",
          "text": [
            "Requirement already satisfied: pandas in /usr/local/lib/python3.6/dist-packages (0.24.2)\n",
            "Requirement already satisfied: pytz>=2011k in /usr/local/lib/python3.6/dist-packages (from pandas) (2018.9)\n",
            "Requirement already satisfied: python-dateutil>=2.5.0 in /usr/local/lib/python3.6/dist-packages (from pandas) (2.5.3)\n",
            "Requirement already satisfied: numpy>=1.12.0 in /usr/local/lib/python3.6/dist-packages (from pandas) (1.16.3)\n",
            "Requirement already satisfied: six>=1.5 in /usr/local/lib/python3.6/dist-packages (from python-dateutil>=2.5.0->pandas) (1.12.0)\n",
            "Requirement already satisfied: tweepy in /usr/local/lib/python3.6/dist-packages (3.6.0)\n",
            "Requirement already satisfied: six>=1.10.0 in /usr/local/lib/python3.6/dist-packages (from tweepy) (1.12.0)\n",
            "Requirement already satisfied: requests-oauthlib>=0.7.0 in /usr/local/lib/python3.6/dist-packages (from tweepy) (1.2.0)\n",
            "Requirement already satisfied: requests>=2.11.1 in /usr/local/lib/python3.6/dist-packages (from tweepy) (2.21.0)\n",
            "Requirement already satisfied: PySocks>=1.5.7 in /usr/local/lib/python3.6/dist-packages (from tweepy) (1.6.8)\n",
            "Requirement already satisfied: oauthlib>=3.0.0 in /usr/local/lib/python3.6/dist-packages (from requests-oauthlib>=0.7.0->tweepy) (3.0.1)\n",
            "Requirement already satisfied: certifi>=2017.4.17 in /usr/local/lib/python3.6/dist-packages (from requests>=2.11.1->tweepy) (2019.3.9)\n",
            "Requirement already satisfied: idna<2.9,>=2.5 in /usr/local/lib/python3.6/dist-packages (from requests>=2.11.1->tweepy) (2.8)\n",
            "Requirement already satisfied: urllib3<1.25,>=1.21.1 in /usr/local/lib/python3.6/dist-packages (from requests>=2.11.1->tweepy) (1.24.2)\n",
            "Requirement already satisfied: chardet<3.1.0,>=3.0.2 in /usr/local/lib/python3.6/dist-packages (from requests>=2.11.1->tweepy) (3.0.4)\n",
            "Requirement already satisfied: vaderSentiment in /usr/local/lib/python3.6/dist-packages (3.2.1)\n"
          ],
          "name": "stdout"
        }
      ]
    },
    {
      "metadata": {
        "id": "DtPKZ4rSCk3u",
        "colab_type": "code",
        "colab": {}
      },
      "cell_type": "code",
      "source": [
        "import tweepy\n",
        "import pandas as pd\n",
        "from nltk.sentiment.vader import SentimentIntensityAnalyzer"
      ],
      "execution_count": 0,
      "outputs": []
    },
    {
      "metadata": {
        "id": "2gADEQuWCqzi",
        "colab_type": "code",
        "colab": {}
      },
      "cell_type": "code",
      "source": [
        "consumer_key =''\n",
        "consumer_secret =''\n",
        "access_token = ''\n",
        "access_token_secret = ''"
      ],
      "execution_count": 0,
      "outputs": []
    },
    {
      "metadata": {
        "id": "TJVcZHc-CtIC",
        "colab_type": "code",
        "outputId": "1f7a196e-2f2b-43d2-ecab-366f807a8181",
        "colab": {
          "base_uri": "https://localhost:8080/",
          "height": 695
        }
      },
      "cell_type": "code",
      "source": [
        "auth = tweepy.OAuthHandler(consumer_key, consumer_secret)\n",
        "auth.set_access_token(access_token, access_token_secret)\n",
        "\n",
        "api = tweepy.API(auth)\n",
        "\n",
        "tweets = api.search('Modi', count=500)\n",
        "\n",
        "\n",
        "data = pd.DataFrame(data=[tweet.text for tweet in tweets], columns=['Tweets'])\n",
        "\n",
        "display(data.head(20))\n",
        "\n",
        "\n",
        "print(tweets[0].created_at)\n",
        "\n"
      ],
      "execution_count": 110,
      "outputs": [
        {
          "output_type": "display_data",
          "data": {
            "text/html": [
              "<div>\n",
              "<style scoped>\n",
              "    .dataframe tbody tr th:only-of-type {\n",
              "        vertical-align: middle;\n",
              "    }\n",
              "\n",
              "    .dataframe tbody tr th {\n",
              "        vertical-align: top;\n",
              "    }\n",
              "\n",
              "    .dataframe thead th {\n",
              "        text-align: right;\n",
              "    }\n",
              "</style>\n",
              "<table border=\"1\" class=\"dataframe\">\n",
              "  <thead>\n",
              "    <tr style=\"text-align: right;\">\n",
              "      <th></th>\n",
              "      <th>Tweets</th>\n",
              "    </tr>\n",
              "  </thead>\n",
              "  <tbody>\n",
              "    <tr>\n",
              "      <th>0</th>\n",
              "      <td>RT @Nehr_who: MODI rejectd the request to figh...</td>\n",
              "    </tr>\n",
              "    <tr>\n",
              "      <th>1</th>\n",
              "      <td>RT @waglenikhil: Nothing wrong in liberals sup...</td>\n",
              "    </tr>\n",
              "    <tr>\n",
              "      <th>2</th>\n",
              "      <td>@INCIndia Matlab modi birodh mein congress ab ...</td>\n",
              "    </tr>\n",
              "    <tr>\n",
              "      <th>3</th>\n",
              "      <td>RT @t_d_h_nair: Govt official from Varanasi sa...</td>\n",
              "    </tr>\n",
              "    <tr>\n",
              "      <th>4</th>\n",
              "      <td>RT @iFlopKhiladi: Priyanka Gandhi : I will con...</td>\n",
              "    </tr>\n",
              "    <tr>\n",
              "      <th>5</th>\n",
              "      <td>@atram_shatram Dnt worry. Life mey Modi ji ach...</td>\n",
              "    </tr>\n",
              "    <tr>\n",
              "      <th>6</th>\n",
              "      <td>RT @DrShwetaGulati: This is a big one. #Rajdee...</td>\n",
              "    </tr>\n",
              "    <tr>\n",
              "      <th>7</th>\n",
              "      <td>Modi in Washington Post\\nvia NaMo App</td>\n",
              "    </tr>\n",
              "    <tr>\n",
              "      <th>8</th>\n",
              "      <td>RT @RKSinhaBJP: My assessment says our dear Pr...</td>\n",
              "    </tr>\n",
              "    <tr>\n",
              "      <th>9</th>\n",
              "      <td>RT @JhaSanjay: Jaitley Ji, You are sulking bec...</td>\n",
              "    </tr>\n",
              "    <tr>\n",
              "      <th>10</th>\n",
              "      <td>RT @mayankgandhi04: Should one vote for Modi o...</td>\n",
              "    </tr>\n",
              "    <tr>\n",
              "      <th>11</th>\n",
              "      <td>🇮🇳🗳️ Après sa grande tournée électorale d'hier...</td>\n",
              "    </tr>\n",
              "    <tr>\n",
              "      <th>12</th>\n",
              "      <td>RT @pbhushan1: Despite SC ordering the RBI to ...</td>\n",
              "    </tr>\n",
              "    <tr>\n",
              "      <th>13</th>\n",
              "      <td>@Gautham74065647 @dhruv_rathee God ke samman k...</td>\n",
              "    </tr>\n",
              "    <tr>\n",
              "      <th>14</th>\n",
              "      <td>RT @OpIndia_com: ‘Mea culpa’: Rajdeep Sardesai...</td>\n",
              "    </tr>\n",
              "    <tr>\n",
              "      <th>15</th>\n",
              "      <td>RT @nijunction: The majesty. The sheer sea of ...</td>\n",
              "    </tr>\n",
              "    <tr>\n",
              "      <th>16</th>\n",
              "      <td>Rahul apne har railly m bolta h ki MODI n 15 l...</td>\n",
              "    </tr>\n",
              "    <tr>\n",
              "      <th>17</th>\n",
              "      <td>RT @BJP4India: LIVE: PM Modi files his nominat...</td>\n",
              "    </tr>\n",
              "    <tr>\n",
              "      <th>18</th>\n",
              "      <td>RT @aajtak: #Varanasi  सीट से प्रधानमंत्री नरे...</td>\n",
              "    </tr>\n",
              "    <tr>\n",
              "      <th>19</th>\n",
              "      <td>RT @Shubhrastha: Modi’s performance of Ganga A...</td>\n",
              "    </tr>\n",
              "  </tbody>\n",
              "</table>\n",
              "</div>"
            ],
            "text/plain": [
              "                                               Tweets\n",
              "0   RT @Nehr_who: MODI rejectd the request to figh...\n",
              "1   RT @waglenikhil: Nothing wrong in liberals sup...\n",
              "2   @INCIndia Matlab modi birodh mein congress ab ...\n",
              "3   RT @t_d_h_nair: Govt official from Varanasi sa...\n",
              "4   RT @iFlopKhiladi: Priyanka Gandhi : I will con...\n",
              "5   @atram_shatram Dnt worry. Life mey Modi ji ach...\n",
              "6   RT @DrShwetaGulati: This is a big one. #Rajdee...\n",
              "7               Modi in Washington Post\\nvia NaMo App\n",
              "8   RT @RKSinhaBJP: My assessment says our dear Pr...\n",
              "9   RT @JhaSanjay: Jaitley Ji, You are sulking bec...\n",
              "10  RT @mayankgandhi04: Should one vote for Modi o...\n",
              "11  🇮🇳🗳️ Après sa grande tournée électorale d'hier...\n",
              "12  RT @pbhushan1: Despite SC ordering the RBI to ...\n",
              "13  @Gautham74065647 @dhruv_rathee God ke samman k...\n",
              "14  RT @OpIndia_com: ‘Mea culpa’: Rajdeep Sardesai...\n",
              "15  RT @nijunction: The majesty. The sheer sea of ...\n",
              "16  Rahul apne har railly m bolta h ki MODI n 15 l...\n",
              "17  RT @BJP4India: LIVE: PM Modi files his nominat...\n",
              "18  RT @aajtak: #Varanasi  सीट से प्रधानमंत्री नरे...\n",
              "19  RT @Shubhrastha: Modi’s performance of Ganga A..."
            ]
          },
          "metadata": {
            "tags": []
          }
        },
        {
          "output_type": "stream",
          "text": [
            "2019-04-26 08:01:27\n"
          ],
          "name": "stdout"
        }
      ]
    },
    {
      "metadata": {
        "id": "-St6kCdSDEXe",
        "colab_type": "code",
        "outputId": "fcb7af56-f32c-4e18-8507-a8a11c93a70b",
        "colab": {
          "base_uri": "https://localhost:8080/",
          "height": 73
        }
      },
      "cell_type": "code",
      "source": [
        "import nltk\n",
        "nltk.download('vader_lexicon')"
      ],
      "execution_count": 42,
      "outputs": [
        {
          "output_type": "stream",
          "text": [
            "[nltk_data] Downloading package vader_lexicon to /root/nltk_data...\n",
            "[nltk_data]   Package vader_lexicon is already up-to-date!\n"
          ],
          "name": "stdout"
        },
        {
          "output_type": "execute_result",
          "data": {
            "text/plain": [
              "True"
            ]
          },
          "metadata": {
            "tags": []
          },
          "execution_count": 42
        }
      ]
    },
    {
      "metadata": {
        "id": "e_ULtFY9Fx1F",
        "colab_type": "code",
        "colab": {}
      },
      "cell_type": "code",
      "source": [
        "sid = SentimentIntensityAnalyzer()\n",
        "\n",
        "listy = []"
      ],
      "execution_count": 0,
      "outputs": []
    },
    {
      "metadata": {
        "id": "m4tbjItqKBGe",
        "colab_type": "code",
        "outputId": "e7685506-a620-4628-9856-56035fe6f6d6",
        "colab": {
          "base_uri": "https://localhost:8080/",
          "height": 1618
        }
      },
      "cell_type": "code",
      "source": [
        "for index,row in data.iterrows():\n",
        "  ss = sid.polarity_scores(row[\"Tweets\"])\n",
        "  listy.append(ss)\n",
        "  \n",
        "se = pd.Series(listy)\n",
        "data['polarity']=se.values\n",
        "\n",
        "display(data.head(50))"
      ],
      "execution_count": 112,
      "outputs": [
        {
          "output_type": "display_data",
          "data": {
            "text/html": [
              "<div>\n",
              "<style scoped>\n",
              "    .dataframe tbody tr th:only-of-type {\n",
              "        vertical-align: middle;\n",
              "    }\n",
              "\n",
              "    .dataframe tbody tr th {\n",
              "        vertical-align: top;\n",
              "    }\n",
              "\n",
              "    .dataframe thead th {\n",
              "        text-align: right;\n",
              "    }\n",
              "</style>\n",
              "<table border=\"1\" class=\"dataframe\">\n",
              "  <thead>\n",
              "    <tr style=\"text-align: right;\">\n",
              "      <th></th>\n",
              "      <th>Tweets</th>\n",
              "      <th>polarity</th>\n",
              "    </tr>\n",
              "  </thead>\n",
              "  <tbody>\n",
              "    <tr>\n",
              "      <th>0</th>\n",
              "      <td>RT @Nehr_who: MODI rejectd the request to figh...</td>\n",
              "      <td>{'neg': 0.198, 'neu': 0.802, 'pos': 0.0, 'comp...</td>\n",
              "    </tr>\n",
              "    <tr>\n",
              "      <th>1</th>\n",
              "      <td>RT @waglenikhil: Nothing wrong in liberals sup...</td>\n",
              "      <td>{'neg': 0.0, 'neu': 0.767, 'pos': 0.233, 'comp...</td>\n",
              "    </tr>\n",
              "    <tr>\n",
              "      <th>2</th>\n",
              "      <td>@INCIndia Matlab modi birodh mein congress ab ...</td>\n",
              "      <td>{'neg': 0.0, 'neu': 1.0, 'pos': 0.0, 'compound...</td>\n",
              "    </tr>\n",
              "    <tr>\n",
              "      <th>3</th>\n",
              "      <td>RT @t_d_h_nair: Govt official from Varanasi sa...</td>\n",
              "      <td>{'neg': 0.0, 'neu': 1.0, 'pos': 0.0, 'compound...</td>\n",
              "    </tr>\n",
              "    <tr>\n",
              "      <th>4</th>\n",
              "      <td>RT @iFlopKhiladi: Priyanka Gandhi : I will con...</td>\n",
              "      <td>{'neg': 0.0, 'neu': 1.0, 'pos': 0.0, 'compound...</td>\n",
              "    </tr>\n",
              "    <tr>\n",
              "      <th>5</th>\n",
              "      <td>@atram_shatram Dnt worry. Life mey Modi ji ach...</td>\n",
              "      <td>{'neg': 0.225, 'neu': 0.775, 'pos': 0.0, 'comp...</td>\n",
              "    </tr>\n",
              "    <tr>\n",
              "      <th>6</th>\n",
              "      <td>RT @DrShwetaGulati: This is a big one. #Rajdee...</td>\n",
              "      <td>{'neg': 0.102, 'neu': 0.898, 'pos': 0.0, 'comp...</td>\n",
              "    </tr>\n",
              "    <tr>\n",
              "      <th>7</th>\n",
              "      <td>Modi in Washington Post\\nvia NaMo App</td>\n",
              "      <td>{'neg': 0.0, 'neu': 1.0, 'pos': 0.0, 'compound...</td>\n",
              "    </tr>\n",
              "    <tr>\n",
              "      <th>8</th>\n",
              "      <td>RT @RKSinhaBJP: My assessment says our dear Pr...</td>\n",
              "      <td>{'neg': 0.0, 'neu': 0.775, 'pos': 0.225, 'comp...</td>\n",
              "    </tr>\n",
              "    <tr>\n",
              "      <th>9</th>\n",
              "      <td>RT @JhaSanjay: Jaitley Ji, You are sulking bec...</td>\n",
              "      <td>{'neg': 0.226, 'neu': 0.774, 'pos': 0.0, 'comp...</td>\n",
              "    </tr>\n",
              "    <tr>\n",
              "      <th>10</th>\n",
              "      <td>RT @mayankgandhi04: Should one vote for Modi o...</td>\n",
              "      <td>{'neg': 0.0, 'neu': 1.0, 'pos': 0.0, 'compound...</td>\n",
              "    </tr>\n",
              "    <tr>\n",
              "      <th>11</th>\n",
              "      <td>🇮🇳🗳️ Après sa grande tournée électorale d'hier...</td>\n",
              "      <td>{'neg': 0.0, 'neu': 1.0, 'pos': 0.0, 'compound...</td>\n",
              "    </tr>\n",
              "    <tr>\n",
              "      <th>12</th>\n",
              "      <td>RT @pbhushan1: Despite SC ordering the RBI to ...</td>\n",
              "      <td>{'neg': 0.087, 'neu': 0.913, 'pos': 0.0, 'comp...</td>\n",
              "    </tr>\n",
              "    <tr>\n",
              "      <th>13</th>\n",
              "      <td>@Gautham74065647 @dhruv_rathee God ke samman k...</td>\n",
              "      <td>{'neg': 0.0, 'neu': 0.877, 'pos': 0.123, 'comp...</td>\n",
              "    </tr>\n",
              "    <tr>\n",
              "      <th>14</th>\n",
              "      <td>RT @OpIndia_com: ‘Mea culpa’: Rajdeep Sardesai...</td>\n",
              "      <td>{'neg': 0.133, 'neu': 0.685, 'pos': 0.181, 'co...</td>\n",
              "    </tr>\n",
              "    <tr>\n",
              "      <th>15</th>\n",
              "      <td>RT @nijunction: The majesty. The sheer sea of ...</td>\n",
              "      <td>{'neg': 0.0, 'neu': 0.868, 'pos': 0.132, 'comp...</td>\n",
              "    </tr>\n",
              "    <tr>\n",
              "      <th>16</th>\n",
              "      <td>Rahul apne har railly m bolta h ki MODI n 15 l...</td>\n",
              "      <td>{'neg': 0.0, 'neu': 1.0, 'pos': 0.0, 'compound...</td>\n",
              "    </tr>\n",
              "    <tr>\n",
              "      <th>17</th>\n",
              "      <td>RT @BJP4India: LIVE: PM Modi files his nominat...</td>\n",
              "      <td>{'neg': 0.0, 'neu': 1.0, 'pos': 0.0, 'compound...</td>\n",
              "    </tr>\n",
              "    <tr>\n",
              "      <th>18</th>\n",
              "      <td>RT @aajtak: #Varanasi  सीट से प्रधानमंत्री नरे...</td>\n",
              "      <td>{'neg': 0.0, 'neu': 1.0, 'pos': 0.0, 'compound...</td>\n",
              "    </tr>\n",
              "    <tr>\n",
              "      <th>19</th>\n",
              "      <td>RT @Shubhrastha: Modi’s performance of Ganga A...</td>\n",
              "      <td>{'neg': 0.0, 'neu': 1.0, 'pos': 0.0, 'compound...</td>\n",
              "    </tr>\n",
              "    <tr>\n",
              "      <th>20</th>\n",
              "      <td>RT @kumarkaza2: Sri Lanka Defence Minister res...</td>\n",
              "      <td>{'neg': 0.379, 'neu': 0.478, 'pos': 0.143, 'co...</td>\n",
              "    </tr>\n",
              "    <tr>\n",
              "      <th>21</th>\n",
              "      <td>RT @davidfrawleyved: Narendra Modi is the firs...</td>\n",
              "      <td>{'neg': 0.0, 'neu': 0.895, 'pos': 0.105, 'comp...</td>\n",
              "    </tr>\n",
              "    <tr>\n",
              "      <th>22</th>\n",
              "      <td>@aajtak @narendramodi Hey guys listen....BJP &amp;...</td>\n",
              "      <td>{'neg': 0.0, 'neu': 0.742, 'pos': 0.258, 'comp...</td>\n",
              "    </tr>\n",
              "    <tr>\n",
              "      <th>23</th>\n",
              "      <td>RT @abpnewshindi: लोकसभा चुनाव LIVE: पीएम मोदी...</td>\n",
              "      <td>{'neg': 0.0, 'neu': 1.0, 'pos': 0.0, 'compound...</td>\n",
              "    </tr>\n",
              "    <tr>\n",
              "      <th>24</th>\n",
              "      <td>Ladies bhi shayad aarti mein pehli baar. Paran...</td>\n",
              "      <td>{'neg': 0.0, 'neu': 1.0, 'pos': 0.0, 'compound...</td>\n",
              "    </tr>\n",
              "    <tr>\n",
              "      <th>25</th>\n",
              "      <td>RT @BhanubhaiMehta: #DeshModiKeSaath\\nCorrupti...</td>\n",
              "      <td>{'neg': 0.167, 'neu': 0.833, 'pos': 0.0, 'comp...</td>\n",
              "    </tr>\n",
              "    <tr>\n",
              "      <th>26</th>\n",
              "      <td>RT @ANINewsUP: PM Narendra Modi: Aisa mahaul k...</td>\n",
              "      <td>{'neg': 0.0, 'neu': 1.0, 'pos': 0.0, 'compound...</td>\n",
              "    </tr>\n",
              "    <tr>\n",
              "      <th>27</th>\n",
              "      <td>RT @RanaAyyub: BJP govt has facilitated bail t...</td>\n",
              "      <td>{'neg': 0.095, 'neu': 0.819, 'pos': 0.086, 'co...</td>\n",
              "    </tr>\n",
              "    <tr>\n",
              "      <th>28</th>\n",
              "      <td>RT @ZeeNewsHindi: सीताराम येचुरी का विवादित बय...</td>\n",
              "      <td>{'neg': 0.0, 'neu': 1.0, 'pos': 0.0, 'compound...</td>\n",
              "    </tr>\n",
              "    <tr>\n",
              "      <th>29</th>\n",
              "      <td>@rishibagree PM Modi Don't talk with Presstitu...</td>\n",
              "      <td>{'neg': 0.0, 'neu': 1.0, 'pos': 0.0, 'compound...</td>\n",
              "    </tr>\n",
              "    <tr>\n",
              "      <th>30</th>\n",
              "      <td>@narendramodi Modi jindabad</td>\n",
              "      <td>{'neg': 0.0, 'neu': 1.0, 'pos': 0.0, 'compound...</td>\n",
              "    </tr>\n",
              "    <tr>\n",
              "      <th>31</th>\n",
              "      <td>RT @ANINewsUP: #WATCH Varanasi: PM Narendra Mo...</td>\n",
              "      <td>{'neg': 0.0, 'neu': 1.0, 'pos': 0.0, 'compound...</td>\n",
              "    </tr>\n",
              "    <tr>\n",
              "      <th>32</th>\n",
              "      <td>RT @upasanatigress: Looking at Modi’s Mega sho...</td>\n",
              "      <td>{'neg': 0.0, 'neu': 0.905, 'pos': 0.095, 'comp...</td>\n",
              "    </tr>\n",
              "    <tr>\n",
              "      <th>33</th>\n",
              "      <td>RT @AshokAkaybee: Modi govt undertook Rs 69,00...</td>\n",
              "      <td>{'neg': 0.0, 'neu': 0.837, 'pos': 0.163, 'comp...</td>\n",
              "    </tr>\n",
              "    <tr>\n",
              "      <th>34</th>\n",
              "      <td>RT @ANINewsUP: #WATCH: Prime Minister Narendra...</td>\n",
              "      <td>{'neg': 0.0, 'neu': 1.0, 'pos': 0.0, 'compound...</td>\n",
              "    </tr>\n",
              "    <tr>\n",
              "      <th>35</th>\n",
              "      <td>RT @SalmanNizami_: Hey @akshaykumar.\\n\\nRs 3,0...</td>\n",
              "      <td>{'neg': 0.0, 'neu': 1.0, 'pos': 0.0, 'compound...</td>\n",
              "    </tr>\n",
              "    <tr>\n",
              "      <th>36</th>\n",
              "      <td>RT @Suparna_Singh: What made PGV decide not to...</td>\n",
              "      <td>{'neg': 0.0, 'neu': 1.0, 'pos': 0.0, 'compound...</td>\n",
              "    </tr>\n",
              "    <tr>\n",
              "      <th>37</th>\n",
              "      <td>RT @ANINewsUP: #WATCH: Prime Minister Narendra...</td>\n",
              "      <td>{'neg': 0.0, 'neu': 1.0, 'pos': 0.0, 'compound...</td>\n",
              "    </tr>\n",
              "    <tr>\n",
              "      <th>38</th>\n",
              "      <td>RT @BoltaHindustan: बम धमाकों के बाद श्रीलंका ...</td>\n",
              "      <td>{'neg': 0.0, 'neu': 1.0, 'pos': 0.0, 'compound...</td>\n",
              "    </tr>\n",
              "    <tr>\n",
              "      <th>39</th>\n",
              "      <td>Modi ji \\nAfter independence of india \\nHe is ...</td>\n",
              "      <td>{'neg': 0.0, 'neu': 1.0, 'pos': 0.0, 'compound...</td>\n",
              "    </tr>\n",
              "    <tr>\n",
              "      <th>40</th>\n",
              "      <td>@bipolarised @hiyer That's a perfect deviation...</td>\n",
              "      <td>{'neg': 0.0, 'neu': 0.812, 'pos': 0.188, 'comp...</td>\n",
              "    </tr>\n",
              "    <tr>\n",
              "      <th>41</th>\n",
              "      <td>RT @ANINewsUP: PM Narendra Modi: Aisa mahaul k...</td>\n",
              "      <td>{'neg': 0.0, 'neu': 1.0, 'pos': 0.0, 'compound...</td>\n",
              "    </tr>\n",
              "    <tr>\n",
              "      <th>42</th>\n",
              "      <td>RT @smitaprakash: Modi to BJP karyakartas in V...</td>\n",
              "      <td>{'neg': 0.0, 'neu': 1.0, 'pos': 0.0, 'compound...</td>\n",
              "    </tr>\n",
              "    <tr>\n",
              "      <th>43</th>\n",
              "      <td>RT @waglenikhil: Nothing wrong in liberals sup...</td>\n",
              "      <td>{'neg': 0.0, 'neu': 0.767, 'pos': 0.233, 'comp...</td>\n",
              "    </tr>\n",
              "    <tr>\n",
              "      <th>44</th>\n",
              "      <td>RT @vinayak_jain: You Lutyens will suck up to ...</td>\n",
              "      <td>{'neg': 0.112, 'neu': 0.888, 'pos': 0.0, 'comp...</td>\n",
              "    </tr>\n",
              "    <tr>\n",
              "      <th>45</th>\n",
              "      <td>RT @davidfrawleyved: Narendra Modi is the firs...</td>\n",
              "      <td>{'neg': 0.0, 'neu': 0.895, 'pos': 0.105, 'comp...</td>\n",
              "    </tr>\n",
              "    <tr>\n",
              "      <th>46</th>\n",
              "      <td>@AmitShah @BJP4India @narendramodi @BJP4UP Sir...</td>\n",
              "      <td>{'neg': 0.0, 'neu': 1.0, 'pos': 0.0, 'compound...</td>\n",
              "    </tr>\n",
              "    <tr>\n",
              "      <th>47</th>\n",
              "      <td>@exnihil74 @EmaPartenopeo Sono solo cambiati m...</td>\n",
              "      <td>{'neg': 0.0, 'neu': 1.0, 'pos': 0.0, 'compound...</td>\n",
              "    </tr>\n",
              "    <tr>\n",
              "      <th>48</th>\n",
              "      <td>@TKHBB @VishalDadlani Modi doesn't want Develo...</td>\n",
              "      <td>{'neg': 0.196, 'neu': 0.804, 'pos': 0.0, 'comp...</td>\n",
              "    </tr>\n",
              "    <tr>\n",
              "      <th>49</th>\n",
              "      <td>RT @VaranasiMP: People have realised the truth...</td>\n",
              "      <td>{'neg': 0.0, 'neu': 0.913, 'pos': 0.087, 'comp...</td>\n",
              "    </tr>\n",
              "  </tbody>\n",
              "</table>\n",
              "</div>"
            ],
            "text/plain": [
              "                                               Tweets  \\\n",
              "0   RT @Nehr_who: MODI rejectd the request to figh...   \n",
              "1   RT @waglenikhil: Nothing wrong in liberals sup...   \n",
              "2   @INCIndia Matlab modi birodh mein congress ab ...   \n",
              "3   RT @t_d_h_nair: Govt official from Varanasi sa...   \n",
              "4   RT @iFlopKhiladi: Priyanka Gandhi : I will con...   \n",
              "5   @atram_shatram Dnt worry. Life mey Modi ji ach...   \n",
              "6   RT @DrShwetaGulati: This is a big one. #Rajdee...   \n",
              "7               Modi in Washington Post\\nvia NaMo App   \n",
              "8   RT @RKSinhaBJP: My assessment says our dear Pr...   \n",
              "9   RT @JhaSanjay: Jaitley Ji, You are sulking bec...   \n",
              "10  RT @mayankgandhi04: Should one vote for Modi o...   \n",
              "11  🇮🇳🗳️ Après sa grande tournée électorale d'hier...   \n",
              "12  RT @pbhushan1: Despite SC ordering the RBI to ...   \n",
              "13  @Gautham74065647 @dhruv_rathee God ke samman k...   \n",
              "14  RT @OpIndia_com: ‘Mea culpa’: Rajdeep Sardesai...   \n",
              "15  RT @nijunction: The majesty. The sheer sea of ...   \n",
              "16  Rahul apne har railly m bolta h ki MODI n 15 l...   \n",
              "17  RT @BJP4India: LIVE: PM Modi files his nominat...   \n",
              "18  RT @aajtak: #Varanasi  सीट से प्रधानमंत्री नरे...   \n",
              "19  RT @Shubhrastha: Modi’s performance of Ganga A...   \n",
              "20  RT @kumarkaza2: Sri Lanka Defence Minister res...   \n",
              "21  RT @davidfrawleyved: Narendra Modi is the firs...   \n",
              "22  @aajtak @narendramodi Hey guys listen....BJP &...   \n",
              "23  RT @abpnewshindi: लोकसभा चुनाव LIVE: पीएम मोदी...   \n",
              "24  Ladies bhi shayad aarti mein pehli baar. Paran...   \n",
              "25  RT @BhanubhaiMehta: #DeshModiKeSaath\\nCorrupti...   \n",
              "26  RT @ANINewsUP: PM Narendra Modi: Aisa mahaul k...   \n",
              "27  RT @RanaAyyub: BJP govt has facilitated bail t...   \n",
              "28  RT @ZeeNewsHindi: सीताराम येचुरी का विवादित बय...   \n",
              "29  @rishibagree PM Modi Don't talk with Presstitu...   \n",
              "30                        @narendramodi Modi jindabad   \n",
              "31  RT @ANINewsUP: #WATCH Varanasi: PM Narendra Mo...   \n",
              "32  RT @upasanatigress: Looking at Modi’s Mega sho...   \n",
              "33  RT @AshokAkaybee: Modi govt undertook Rs 69,00...   \n",
              "34  RT @ANINewsUP: #WATCH: Prime Minister Narendra...   \n",
              "35  RT @SalmanNizami_: Hey @akshaykumar.\\n\\nRs 3,0...   \n",
              "36  RT @Suparna_Singh: What made PGV decide not to...   \n",
              "37  RT @ANINewsUP: #WATCH: Prime Minister Narendra...   \n",
              "38  RT @BoltaHindustan: बम धमाकों के बाद श्रीलंका ...   \n",
              "39  Modi ji \\nAfter independence of india \\nHe is ...   \n",
              "40  @bipolarised @hiyer That's a perfect deviation...   \n",
              "41  RT @ANINewsUP: PM Narendra Modi: Aisa mahaul k...   \n",
              "42  RT @smitaprakash: Modi to BJP karyakartas in V...   \n",
              "43  RT @waglenikhil: Nothing wrong in liberals sup...   \n",
              "44  RT @vinayak_jain: You Lutyens will suck up to ...   \n",
              "45  RT @davidfrawleyved: Narendra Modi is the firs...   \n",
              "46  @AmitShah @BJP4India @narendramodi @BJP4UP Sir...   \n",
              "47  @exnihil74 @EmaPartenopeo Sono solo cambiati m...   \n",
              "48  @TKHBB @VishalDadlani Modi doesn't want Develo...   \n",
              "49  RT @VaranasiMP: People have realised the truth...   \n",
              "\n",
              "                                             polarity  \n",
              "0   {'neg': 0.198, 'neu': 0.802, 'pos': 0.0, 'comp...  \n",
              "1   {'neg': 0.0, 'neu': 0.767, 'pos': 0.233, 'comp...  \n",
              "2   {'neg': 0.0, 'neu': 1.0, 'pos': 0.0, 'compound...  \n",
              "3   {'neg': 0.0, 'neu': 1.0, 'pos': 0.0, 'compound...  \n",
              "4   {'neg': 0.0, 'neu': 1.0, 'pos': 0.0, 'compound...  \n",
              "5   {'neg': 0.225, 'neu': 0.775, 'pos': 0.0, 'comp...  \n",
              "6   {'neg': 0.102, 'neu': 0.898, 'pos': 0.0, 'comp...  \n",
              "7   {'neg': 0.0, 'neu': 1.0, 'pos': 0.0, 'compound...  \n",
              "8   {'neg': 0.0, 'neu': 0.775, 'pos': 0.225, 'comp...  \n",
              "9   {'neg': 0.226, 'neu': 0.774, 'pos': 0.0, 'comp...  \n",
              "10  {'neg': 0.0, 'neu': 1.0, 'pos': 0.0, 'compound...  \n",
              "11  {'neg': 0.0, 'neu': 1.0, 'pos': 0.0, 'compound...  \n",
              "12  {'neg': 0.087, 'neu': 0.913, 'pos': 0.0, 'comp...  \n",
              "13  {'neg': 0.0, 'neu': 0.877, 'pos': 0.123, 'comp...  \n",
              "14  {'neg': 0.133, 'neu': 0.685, 'pos': 0.181, 'co...  \n",
              "15  {'neg': 0.0, 'neu': 0.868, 'pos': 0.132, 'comp...  \n",
              "16  {'neg': 0.0, 'neu': 1.0, 'pos': 0.0, 'compound...  \n",
              "17  {'neg': 0.0, 'neu': 1.0, 'pos': 0.0, 'compound...  \n",
              "18  {'neg': 0.0, 'neu': 1.0, 'pos': 0.0, 'compound...  \n",
              "19  {'neg': 0.0, 'neu': 1.0, 'pos': 0.0, 'compound...  \n",
              "20  {'neg': 0.379, 'neu': 0.478, 'pos': 0.143, 'co...  \n",
              "21  {'neg': 0.0, 'neu': 0.895, 'pos': 0.105, 'comp...  \n",
              "22  {'neg': 0.0, 'neu': 0.742, 'pos': 0.258, 'comp...  \n",
              "23  {'neg': 0.0, 'neu': 1.0, 'pos': 0.0, 'compound...  \n",
              "24  {'neg': 0.0, 'neu': 1.0, 'pos': 0.0, 'compound...  \n",
              "25  {'neg': 0.167, 'neu': 0.833, 'pos': 0.0, 'comp...  \n",
              "26  {'neg': 0.0, 'neu': 1.0, 'pos': 0.0, 'compound...  \n",
              "27  {'neg': 0.095, 'neu': 0.819, 'pos': 0.086, 'co...  \n",
              "28  {'neg': 0.0, 'neu': 1.0, 'pos': 0.0, 'compound...  \n",
              "29  {'neg': 0.0, 'neu': 1.0, 'pos': 0.0, 'compound...  \n",
              "30  {'neg': 0.0, 'neu': 1.0, 'pos': 0.0, 'compound...  \n",
              "31  {'neg': 0.0, 'neu': 1.0, 'pos': 0.0, 'compound...  \n",
              "32  {'neg': 0.0, 'neu': 0.905, 'pos': 0.095, 'comp...  \n",
              "33  {'neg': 0.0, 'neu': 0.837, 'pos': 0.163, 'comp...  \n",
              "34  {'neg': 0.0, 'neu': 1.0, 'pos': 0.0, 'compound...  \n",
              "35  {'neg': 0.0, 'neu': 1.0, 'pos': 0.0, 'compound...  \n",
              "36  {'neg': 0.0, 'neu': 1.0, 'pos': 0.0, 'compound...  \n",
              "37  {'neg': 0.0, 'neu': 1.0, 'pos': 0.0, 'compound...  \n",
              "38  {'neg': 0.0, 'neu': 1.0, 'pos': 0.0, 'compound...  \n",
              "39  {'neg': 0.0, 'neu': 1.0, 'pos': 0.0, 'compound...  \n",
              "40  {'neg': 0.0, 'neu': 0.812, 'pos': 0.188, 'comp...  \n",
              "41  {'neg': 0.0, 'neu': 1.0, 'pos': 0.0, 'compound...  \n",
              "42  {'neg': 0.0, 'neu': 1.0, 'pos': 0.0, 'compound...  \n",
              "43  {'neg': 0.0, 'neu': 0.767, 'pos': 0.233, 'comp...  \n",
              "44  {'neg': 0.112, 'neu': 0.888, 'pos': 0.0, 'comp...  \n",
              "45  {'neg': 0.0, 'neu': 0.895, 'pos': 0.105, 'comp...  \n",
              "46  {'neg': 0.0, 'neu': 1.0, 'pos': 0.0, 'compound...  \n",
              "47  {'neg': 0.0, 'neu': 1.0, 'pos': 0.0, 'compound...  \n",
              "48  {'neg': 0.196, 'neu': 0.804, 'pos': 0.0, 'comp...  \n",
              "49  {'neg': 0.0, 'neu': 0.913, 'pos': 0.087, 'comp...  "
            ]
          },
          "metadata": {
            "tags": []
          }
        }
      ]
    },
    {
      "metadata": {
        "id": "qrHoKgzMKRHI",
        "colab_type": "code",
        "outputId": "fc6d6426-1834-4d54-d0c6-d12629abeca8",
        "colab": {
          "base_uri": "https://localhost:8080/",
          "height": 36
        }
      },
      "cell_type": "code",
      "source": [
        "type(data['polarity'][0])"
      ],
      "execution_count": 45,
      "outputs": [
        {
          "output_type": "execute_result",
          "data": {
            "text/plain": [
              "dict"
            ]
          },
          "metadata": {
            "tags": []
          },
          "execution_count": 45
        }
      ]
    },
    {
      "metadata": {
        "id": "y67LPJOmLARE",
        "colab_type": "code",
        "outputId": "61eb5e54-bb55-4059-cd4b-19b429c04316",
        "colab": {
          "base_uri": "https://localhost:8080/",
          "height": 36
        }
      },
      "cell_type": "code",
      "source": [
        "data['Tweets'][22]"
      ],
      "execution_count": 46,
      "outputs": [
        {
          "output_type": "execute_result",
          "data": {
            "text/plain": [
              "'New post (Artificial Intelligence: Friend or Foe?) has been published on Chile Economy Mashup - https://t.co/MBdzzTZqoC'"
            ]
          },
          "metadata": {
            "tags": []
          },
          "execution_count": 46
        }
      ]
    },
    {
      "metadata": {
        "id": "ICVjIqSgKjDg",
        "colab_type": "code",
        "colab": {}
      },
      "cell_type": "code",
      "source": [
        "a=data['polarity'][22]"
      ],
      "execution_count": 0,
      "outputs": []
    },
    {
      "metadata": {
        "id": "1Au-MK6HhcGv",
        "colab_type": "code",
        "colab": {
          "base_uri": "https://localhost:8080/",
          "height": 36
        },
        "outputId": "190514ec-2725-401a-b472-c0d558ea62f1"
      },
      "cell_type": "code",
      "source": [
        "type(a['neg'])"
      ],
      "execution_count": 53,
      "outputs": [
        {
          "output_type": "execute_result",
          "data": {
            "text/plain": [
              "float"
            ]
          },
          "metadata": {
            "tags": []
          },
          "execution_count": 53
        }
      ]
    },
    {
      "metadata": {
        "id": "HRSUIsg3K5j5",
        "colab_type": "code",
        "outputId": "7cc15645-9309-4dce-b149-5a113bccc863",
        "colab": {
          "base_uri": "https://localhost:8080/",
          "height": 56
        }
      },
      "cell_type": "code",
      "source": [
        "print(data['Tweets'][27],data['polarity'][27])"
      ],
      "execution_count": 0,
      "outputs": [
        {
          "output_type": "stream",
          "text": [
            "Forbes shows how #AI will change five of the world's biggest industries. Unfortunately they forgot about the energy… https://t.co/FvayOQJhSz {'neg': 0.118, 'neu': 0.882, 'pos': 0.0, 'compound': -0.34}\n"
          ],
          "name": "stdout"
        }
      ]
    },
    {
      "metadata": {
        "id": "-w69vcNtNUkq",
        "colab_type": "text"
      },
      "cell_type": "markdown",
      "source": [
        "### Here 'compound' is  **aggregated score**\n"
      ]
    },
    {
      "metadata": {
        "id": "2u5ty0uWNhm5",
        "colab_type": "code",
        "colab": {}
      },
      "cell_type": "code",
      "source": [
        "## Normalize the score to be between -1 and 1 using an alpha that approximates the max expected value"
      ],
      "execution_count": 0,
      "outputs": []
    },
    {
      "metadata": {
        "id": "Sd4qbCVYNqhl",
        "colab_type": "code",
        "colab": {}
      },
      "cell_type": "code",
      "source": [
        "import matplotlib.pyplot as plt\n",
        "import pandas as pd"
      ],
      "execution_count": 0,
      "outputs": []
    },
    {
      "metadata": {
        "id": "Gz4MoPxDKfYb",
        "colab_type": "code",
        "colab": {}
      },
      "cell_type": "code",
      "source": [
        "pos_count=neg_count=neu_count=0"
      ],
      "execution_count": 0,
      "outputs": []
    },
    {
      "metadata": {
        "id": "l6VeLhiGIwPA",
        "colab_type": "code",
        "colab": {}
      },
      "cell_type": "code",
      "source": [
        "for i in listy:\n",
        "  pos=i['pos']\n",
        "  neg=i['neg']\n",
        "  neu=i['neu']\n",
        "  if (pos==max(pos,neg,neu)):\n",
        "      pos_count=pos_count+1\n",
        "  elif (pos==max(pos,neg,neu)):\n",
        "      neg_count=neg_count+1\n",
        "  else:\n",
        "       neu_coun=neu_count+1\n"
      ],
      "execution_count": 0,
      "outputs": []
    },
    {
      "metadata": {
        "id": "pkBW0WXqHNDX",
        "colab_type": "code",
        "colab": {
          "base_uri": "https://localhost:8080/",
          "height": 298
        },
        "outputId": "68d24ab1-589c-48d6-e677-42db984a1e6b"
      },
      "cell_type": "code",
      "source": [
        "# Pie chart\n",
        "labels = ['Positive', 'Negative', 'Neutral']\n",
        "sizes = [pos, neg, neu]\n",
        "\n",
        "# only \"explode\" the 2nd slice (i.e. 'Hogs')\n",
        "explode = (0, 0.1, 0)  \n",
        "\n",
        "fig1, ax1 = plt.subplots()\n",
        "ax1.pie(sizes, explode=explode, labels=labels, autopct='%1.1f%%',\n",
        "        shadow=True, startangle=90)\n",
        "\n",
        "# Equal aspect ratio ensures that pie is drawn as a circle\n",
        "ax1.axis('equal')  \n",
        "\n",
        "plt.tight_layout()\n",
        "plt.show()"
      ],
      "execution_count": 116,
      "outputs": [
        {
          "output_type": "display_data",
          "data": {
            "image/png": "[encoded data removed]",
            "text/plain": [
              "<Figure size 432x288 with 1 Axes>"
            ]
          },
          "metadata": {
            "tags": []
          }
        }
      ]
    },
    {
      "metadata": {
        "id": "NZueutZEH8q2",
        "colab_type": "code",
        "colab": {}
      },
      "cell_type": "code",
      "source": [
        "text=\"I'm happy to at \"\n",
        "aa= sid.polarity_scores(text)"
      ],
      "execution_count": 0,
      "outputs": []
    },
    {
      "metadata": {
        "id": "kA4qTYwOLul4",
        "colab_type": "code",
        "colab": {
          "base_uri": "https://localhost:8080/",
          "height": 36
        },
        "outputId": "b6b12d48-320b-4213-dada-bc9b86ffb61e"
      },
      "cell_type": "code",
      "source": [
        "aa"
      ],
      "execution_count": 118,
      "outputs": [
        {
          "output_type": "execute_result",
          "data": {
            "text/plain": [
              "{'compound': 0.5719, 'neg': 0.0, 'neu': 0.448, 'pos': 0.552}"
            ]
          },
          "metadata": {
            "tags": []
          },
          "execution_count": 118
        }
      ]
    },
    {
      "metadata": {
        "id": "AqoAouQhLvNf",
        "colab_type": "code",
        "colab": {}
      },
      "cell_type": "code",
      "source": [
        ""
      ],
      "execution_count": 0,
      "outputs": []
    }
  ]
}