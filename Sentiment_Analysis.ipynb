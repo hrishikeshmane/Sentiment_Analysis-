{
  "nbformat": 4,
  "nbformat_minor": 0,
  "metadata": {
    "colab": {
      "name": "Sentiment_Analysis.ipynb",
      "version": "0.3.2",
      "provenance": [],
      "collapsed_sections": [],
      "include_colab_link": true
    },
    "kernelspec": {
      "name": "python3",
      "display_name": "Python 3"
    },
    "accelerator": "GPU"
  },
  "cells": [
    {
      "cell_type": "markdown",
      "metadata": {
        "id": "view-in-github",
        "colab_type": "text"
      },
      "source": [
        "<a href=\"https://colab.research.google.com/github/hrishikeshmane/Sentiment_Analysis-/blob/master/Sentiment_Analysis.ipynb\" target=\"_parent\"><img src=\"https://colab.research.google.com/assets/colab-badge.svg\" alt=\"Open In Colab\"/></a>"
      ]
    },
    {
      "metadata": {
        "id": "26pA_5itCZv7",
        "colab_type": "code",
        "colab": {
          "base_uri": "https://localhost:8080/",
          "height": 408
        },
        "outputId": "c21b8eba-a25e-4358-eedd-45c398163fd5"
      },
      "cell_type": "code",
      "source": [
        "!pip install pandas\n",
        "!pip install tweepy\n",
        "!pip install vaderSentiment"
      ],
      "execution_count": 1,
      "outputs": [
        {
          "output_type": "stream",
          "text": [
            "Requirement already satisfied: pandas in /usr/local/lib/python3.6/dist-packages (0.24.2)\n",
            "Requirement already satisfied: pytz>=2011k in /usr/local/lib/python3.6/dist-packages (from pandas) (2018.9)\n",
            "Requirement already satisfied: numpy>=1.12.0 in /usr/local/lib/python3.6/dist-packages (from pandas) (1.16.3)\n",
            "Requirement already satisfied: python-dateutil>=2.5.0 in /usr/local/lib/python3.6/dist-packages (from pandas) (2.5.3)\n",
            "Requirement already satisfied: six>=1.5 in /usr/local/lib/python3.6/dist-packages (from python-dateutil>=2.5.0->pandas) (1.12.0)\n",
            "Requirement already satisfied: tweepy in /usr/local/lib/python3.6/dist-packages (3.6.0)\n",
            "Requirement already satisfied: PySocks>=1.5.7 in /usr/local/lib/python3.6/dist-packages (from tweepy) (1.6.8)\n",
            "Requirement already satisfied: requests>=2.11.1 in /usr/local/lib/python3.6/dist-packages (from tweepy) (2.21.0)\n",
            "Requirement already satisfied: six>=1.10.0 in /usr/local/lib/python3.6/dist-packages (from tweepy) (1.12.0)\n",
            "Requirement already satisfied: requests-oauthlib>=0.7.0 in /usr/local/lib/python3.6/dist-packages (from tweepy) (1.2.0)\n",
            "Requirement already satisfied: idna<2.9,>=2.5 in /usr/local/lib/python3.6/dist-packages (from requests>=2.11.1->tweepy) (2.8)\n",
            "Requirement already satisfied: chardet<3.1.0,>=3.0.2 in /usr/local/lib/python3.6/dist-packages (from requests>=2.11.1->tweepy) (3.0.4)\n",
            "Requirement already satisfied: certifi>=2017.4.17 in /usr/local/lib/python3.6/dist-packages (from requests>=2.11.1->tweepy) (2019.3.9)\n",
            "Requirement already satisfied: urllib3<1.25,>=1.21.1 in /usr/local/lib/python3.6/dist-packages (from requests>=2.11.1->tweepy) (1.24.2)\n",
            "Requirement already satisfied: oauthlib>=3.0.0 in /usr/local/lib/python3.6/dist-packages (from requests-oauthlib>=0.7.0->tweepy) (3.0.1)\n",
            "Collecting vaderSentiment\n",
            "\u001b[?25l  Downloading https://files.pythonhosted.org/packages/86/9e/c53e1fc61aac5ee490a6ac5e21b1ac04e55a7c2aba647bb8411c9aadf24e/vaderSentiment-3.2.1-py2.py3-none-any.whl (125kB)\n",
            "\u001b[K    100% |████████████████████████████████| 133kB 11.0MB/s \n",
            "\u001b[?25hInstalling collected packages: vaderSentiment\n",
            "Successfully installed vaderSentiment-3.2.1\n"
          ],
          "name": "stdout"
        }
      ]
    },
    {
      "metadata": {
        "id": "DtPKZ4rSCk3u",
        "colab_type": "code",
        "colab": {
          "base_uri": "https://localhost:8080/",
          "height": 74
        },
        "outputId": "ab9a4052-7aea-4065-f5fd-ab8c88057c2c"
      },
      "cell_type": "code",
      "source": [
        "import tweepy\n",
        "import pandas as pd\n",
        "from nltk.sentiment.vader import SentimentIntensityAnalyzer"
      ],
      "execution_count": 2,
      "outputs": [
        {
          "output_type": "stream",
          "text": [
            "/usr/local/lib/python3.6/dist-packages/nltk/twitter/__init__.py:20: UserWarning: The twython library has not been installed. Some functionality from the twitter package will not be available.\n",
            "  warnings.warn(\"The twython library has not been installed. \"\n"
          ],
          "name": "stderr"
        }
      ]
    },
    {
      "metadata": {
        "id": "2gADEQuWCqzi",
        "colab_type": "code",
        "colab": {}
      },
      "cell_type": "code",
      "source": [
        "consumer_key =''\n",
        "consumer_secret =''\n",
        "access_token = ''\n",
        "access_token_secret = ''"
      ],
      "execution_count": 0,
      "outputs": []
    },
    {
      "metadata": {
        "id": "TJVcZHc-CtIC",
        "colab_type": "code",
        "colab": {
          "base_uri": "https://localhost:8080/",
          "height": 695
        },
        "outputId": "1ba6e762-4a1d-4729-8b1a-8abc5e86a1c9"
      },
      "cell_type": "code",
      "source": [
        "auth = tweepy.OAuthHandler(consumer_key, consumer_secret)\n",
        "auth.set_access_token(access_token, access_token_secret)\n",
        "\n",
        "api = tweepy.API(auth)\n",
        "\n",
        "tweets = api.search('Artificial Intelligence', count=200)\n",
        "\n",
        "\n",
        "data = pd.DataFrame(data=[tweet.text for tweet in tweets], columns=['Tweets'])\n",
        "\n",
        "display(data.head(20))\n",
        "\n",
        "\n",
        "print(tweets[0].created_at)\n",
        "\n"
      ],
      "execution_count": 6,
      "outputs": [
        {
          "output_type": "display_data",
          "data": {
            "text/html": [
              "<div>\n",
              "<style scoped>\n",
              "    .dataframe tbody tr th:only-of-type {\n",
              "        vertical-align: middle;\n",
              "    }\n",
              "\n",
              "    .dataframe tbody tr th {\n",
              "        vertical-align: top;\n",
              "    }\n",
              "\n",
              "    .dataframe thead th {\n",
              "        text-align: right;\n",
              "    }\n",
              "</style>\n",
              "<table border=\"1\" class=\"dataframe\">\n",
              "  <thead>\n",
              "    <tr style=\"text-align: right;\">\n",
              "      <th></th>\n",
              "      <th>Tweets</th>\n",
              "    </tr>\n",
              "  </thead>\n",
              "  <tbody>\n",
              "    <tr>\n",
              "      <th>0</th>\n",
              "      <td>RT @EricTopol: A patient (w/o #diabetes) of mi...</td>\n",
              "    </tr>\n",
              "    <tr>\n",
              "      <th>1</th>\n",
              "      <td>RT @dez_blanchfield: \"data has a nasty habit o...</td>\n",
              "    </tr>\n",
              "    <tr>\n",
              "      <th>2</th>\n",
              "      <td>RT @dwf: Compared to the self-congratulatory t...</td>\n",
              "    </tr>\n",
              "    <tr>\n",
              "      <th>3</th>\n",
              "      <td>RT @SadhguruJV: Technology &amp;amp; artificial in...</td>\n",
              "    </tr>\n",
              "    <tr>\n",
              "      <th>4</th>\n",
              "      <td>RT @AnimalsPostt: https://t.co/A10WytzVAh</td>\n",
              "    </tr>\n",
              "    <tr>\n",
              "      <th>5</th>\n",
              "      <td>RT @STEPSociety: Alexa, draft my will! Hannah ...</td>\n",
              "    </tr>\n",
              "    <tr>\n",
              "      <th>6</th>\n",
              "      <td>RT @IainLJBrown: Adopting Artificial Intellige...</td>\n",
              "    </tr>\n",
              "    <tr>\n",
              "      <th>7</th>\n",
              "      <td>RT @ipfconline1: Banks &amp;amp; financial institu...</td>\n",
              "    </tr>\n",
              "    <tr>\n",
              "      <th>8</th>\n",
              "      <td>Forget about artificial intelligence, extended...</td>\n",
              "    </tr>\n",
              "    <tr>\n",
              "      <th>9</th>\n",
              "      <td>RT @IainLJBrown: Adopting Artificial Intellige...</td>\n",
              "    </tr>\n",
              "    <tr>\n",
              "      <th>10</th>\n",
              "      <td>RT @Pts4Chg: What does AI mean for care experi...</td>\n",
              "    </tr>\n",
              "    <tr>\n",
              "      <th>11</th>\n",
              "      <td>Rimilia and Microsoft Co-Host Artificial Intel...</td>\n",
              "    </tr>\n",
              "    <tr>\n",
              "      <th>12</th>\n",
              "      <td>Forget about artificial intelligence, extended...</td>\n",
              "    </tr>\n",
              "    <tr>\n",
              "      <th>13</th>\n",
              "      <td>RT @SadhguruJV: Technology &amp;amp; artificial in...</td>\n",
              "    </tr>\n",
              "    <tr>\n",
              "      <th>14</th>\n",
              "      <td>RT @ItsCutecouplee: https://t.co/GNAApS0t5k</td>\n",
              "    </tr>\n",
              "    <tr>\n",
              "      <th>15</th>\n",
              "      <td>RT @SamHarrisOrg: \"Scientists have developed a...</td>\n",
              "    </tr>\n",
              "    <tr>\n",
              "      <th>16</th>\n",
              "      <td>Researchers use artificial intelligence to sum...</td>\n",
              "    </tr>\n",
              "    <tr>\n",
              "      <th>17</th>\n",
              "      <td>Impact of Artificial Intelligence in the Healt...</td>\n",
              "    </tr>\n",
              "    <tr>\n",
              "      <th>18</th>\n",
              "      <td>Artificial Intelligence in Medicine: current t...</td>\n",
              "    </tr>\n",
              "    <tr>\n",
              "      <th>19</th>\n",
              "      <td>#ArtificialIntelligence may help develop clean...</td>\n",
              "    </tr>\n",
              "  </tbody>\n",
              "</table>\n",
              "</div>"
            ],
            "text/plain": [
              "                                               Tweets\n",
              "0   RT @EricTopol: A patient (w/o #diabetes) of mi...\n",
              "1   RT @dez_blanchfield: \"data has a nasty habit o...\n",
              "2   RT @dwf: Compared to the self-congratulatory t...\n",
              "3   RT @SadhguruJV: Technology &amp; artificial in...\n",
              "4           RT @AnimalsPostt: https://t.co/A10WytzVAh\n",
              "5   RT @STEPSociety: Alexa, draft my will! Hannah ...\n",
              "6   RT @IainLJBrown: Adopting Artificial Intellige...\n",
              "7   RT @ipfconline1: Banks &amp; financial institu...\n",
              "8   Forget about artificial intelligence, extended...\n",
              "9   RT @IainLJBrown: Adopting Artificial Intellige...\n",
              "10  RT @Pts4Chg: What does AI mean for care experi...\n",
              "11  Rimilia and Microsoft Co-Host Artificial Intel...\n",
              "12  Forget about artificial intelligence, extended...\n",
              "13  RT @SadhguruJV: Technology &amp; artificial in...\n",
              "14        RT @ItsCutecouplee: https://t.co/GNAApS0t5k\n",
              "15  RT @SamHarrisOrg: \"Scientists have developed a...\n",
              "16  Researchers use artificial intelligence to sum...\n",
              "17  Impact of Artificial Intelligence in the Healt...\n",
              "18  Artificial Intelligence in Medicine: current t...\n",
              "19  #ArtificialIntelligence may help develop clean..."
            ]
          },
          "metadata": {
            "tags": []
          }
        },
        {
          "output_type": "stream",
          "text": [
            "2019-04-25 05:57:39\n"
          ],
          "name": "stdout"
        }
      ]
    },
    {
      "metadata": {
        "id": "-St6kCdSDEXe",
        "colab_type": "code",
        "colab": {
          "base_uri": "https://localhost:8080/",
          "height": 54
        },
        "outputId": "e5eba036-5c3d-4f5f-b462-fe8c35f1361a"
      },
      "cell_type": "code",
      "source": [
        "import nltk\n",
        "nltk.download('vader_lexicon')"
      ],
      "execution_count": 7,
      "outputs": [
        {
          "output_type": "stream",
          "text": [
            "[nltk_data] Downloading package vader_lexicon to /root/nltk_data...\n"
          ],
          "name": "stdout"
        },
        {
          "output_type": "execute_result",
          "data": {
            "text/plain": [
              "True"
            ]
          },
          "metadata": {
            "tags": []
          },
          "execution_count": 7
        }
      ]
    },
    {
      "metadata": {
        "id": "e_ULtFY9Fx1F",
        "colab_type": "code",
        "colab": {}
      },
      "cell_type": "code",
      "source": [
        "sid = SentimentIntensityAnalyzer()\n",
        "\n",
        "listy = []"
      ],
      "execution_count": 0,
      "outputs": []
    },
    {
      "metadata": {
        "id": "m4tbjItqKBGe",
        "colab_type": "code",
        "colab": {
          "base_uri": "https://localhost:8080/",
          "height": 1618
        },
        "outputId": "b61e8404-3920-4853-c721-e3d30f8f46c5"
      },
      "cell_type": "code",
      "source": [
        "for index,row in data.iterrows():\n",
        "  ss = sid.polarity_scores(row[\"Tweets\"])\n",
        "  listy.append(ss)\n",
        "  \n",
        "se = pd.Series(listy)\n",
        "data['polarity']=se.values\n",
        "\n",
        "display(data.head(50))"
      ],
      "execution_count": 9,
      "outputs": [
        {
          "output_type": "display_data",
          "data": {
            "text/html": [
              "<div>\n",
              "<style scoped>\n",
              "    .dataframe tbody tr th:only-of-type {\n",
              "        vertical-align: middle;\n",
              "    }\n",
              "\n",
              "    .dataframe tbody tr th {\n",
              "        vertical-align: top;\n",
              "    }\n",
              "\n",
              "    .dataframe thead th {\n",
              "        text-align: right;\n",
              "    }\n",
              "</style>\n",
              "<table border=\"1\" class=\"dataframe\">\n",
              "  <thead>\n",
              "    <tr style=\"text-align: right;\">\n",
              "      <th></th>\n",
              "      <th>Tweets</th>\n",
              "      <th>polarity</th>\n",
              "    </tr>\n",
              "  </thead>\n",
              "  <tbody>\n",
              "    <tr>\n",
              "      <th>0</th>\n",
              "      <td>RT @EricTopol: A patient (w/o #diabetes) of mi...</td>\n",
              "      <td>{'neg': 0.0, 'neu': 1.0, 'pos': 0.0, 'compound...</td>\n",
              "    </tr>\n",
              "    <tr>\n",
              "      <th>1</th>\n",
              "      <td>RT @dez_blanchfield: \"data has a nasty habit o...</td>\n",
              "      <td>{'neg': 0.149, 'neu': 0.662, 'pos': 0.189, 'co...</td>\n",
              "    </tr>\n",
              "    <tr>\n",
              "      <th>2</th>\n",
              "      <td>RT @dwf: Compared to the self-congratulatory t...</td>\n",
              "      <td>{'neg': 0.0, 'neu': 1.0, 'pos': 0.0, 'compound...</td>\n",
              "    </tr>\n",
              "    <tr>\n",
              "      <th>3</th>\n",
              "      <td>RT @SadhguruJV: Technology &amp;amp; artificial in...</td>\n",
              "      <td>{'neg': 0.0, 'neu': 0.602, 'pos': 0.398, 'comp...</td>\n",
              "    </tr>\n",
              "    <tr>\n",
              "      <th>4</th>\n",
              "      <td>RT @AnimalsPostt: https://t.co/A10WytzVAh</td>\n",
              "      <td>{'neg': 0.0, 'neu': 1.0, 'pos': 0.0, 'compound...</td>\n",
              "    </tr>\n",
              "    <tr>\n",
              "      <th>5</th>\n",
              "      <td>RT @STEPSociety: Alexa, draft my will! Hannah ...</td>\n",
              "      <td>{'neg': 0.0, 'neu': 0.73, 'pos': 0.27, 'compou...</td>\n",
              "    </tr>\n",
              "    <tr>\n",
              "      <th>6</th>\n",
              "      <td>RT @IainLJBrown: Adopting Artificial Intellige...</td>\n",
              "      <td>{'neg': 0.0, 'neu': 0.71, 'pos': 0.29, 'compou...</td>\n",
              "    </tr>\n",
              "    <tr>\n",
              "      <th>7</th>\n",
              "      <td>RT @ipfconline1: Banks &amp;amp; financial institu...</td>\n",
              "      <td>{'neg': 0.0, 'neu': 0.672, 'pos': 0.328, 'comp...</td>\n",
              "    </tr>\n",
              "    <tr>\n",
              "      <th>8</th>\n",
              "      <td>Forget about artificial intelligence, extended...</td>\n",
              "      <td>{'neg': 0.126, 'neu': 0.464, 'pos': 0.411, 'co...</td>\n",
              "    </tr>\n",
              "    <tr>\n",
              "      <th>9</th>\n",
              "      <td>RT @IainLJBrown: Adopting Artificial Intellige...</td>\n",
              "      <td>{'neg': 0.0, 'neu': 0.71, 'pos': 0.29, 'compou...</td>\n",
              "    </tr>\n",
              "    <tr>\n",
              "      <th>10</th>\n",
              "      <td>RT @Pts4Chg: What does AI mean for care experi...</td>\n",
              "      <td>{'neg': 0.0, 'neu': 0.856, 'pos': 0.144, 'comp...</td>\n",
              "    </tr>\n",
              "    <tr>\n",
              "      <th>11</th>\n",
              "      <td>Rimilia and Microsoft Co-Host Artificial Intel...</td>\n",
              "      <td>{'neg': 0.0, 'neu': 0.7, 'pos': 0.3, 'compound...</td>\n",
              "    </tr>\n",
              "    <tr>\n",
              "      <th>12</th>\n",
              "      <td>Forget about artificial intelligence, extended...</td>\n",
              "      <td>{'neg': 0.126, 'neu': 0.464, 'pos': 0.411, 'co...</td>\n",
              "    </tr>\n",
              "    <tr>\n",
              "      <th>13</th>\n",
              "      <td>RT @SadhguruJV: Technology &amp;amp; artificial in...</td>\n",
              "      <td>{'neg': 0.0, 'neu': 0.602, 'pos': 0.398, 'comp...</td>\n",
              "    </tr>\n",
              "    <tr>\n",
              "      <th>14</th>\n",
              "      <td>RT @ItsCutecouplee: https://t.co/GNAApS0t5k</td>\n",
              "      <td>{'neg': 0.0, 'neu': 1.0, 'pos': 0.0, 'compound...</td>\n",
              "    </tr>\n",
              "    <tr>\n",
              "      <th>15</th>\n",
              "      <td>RT @SamHarrisOrg: \"Scientists have developed a...</td>\n",
              "      <td>{'neg': 0.0, 'neu': 1.0, 'pos': 0.0, 'compound...</td>\n",
              "    </tr>\n",
              "    <tr>\n",
              "      <th>16</th>\n",
              "      <td>Researchers use artificial intelligence to sum...</td>\n",
              "      <td>{'neg': 0.0, 'neu': 0.78, 'pos': 0.22, 'compou...</td>\n",
              "    </tr>\n",
              "    <tr>\n",
              "      <th>17</th>\n",
              "      <td>Impact of Artificial Intelligence in the Healt...</td>\n",
              "      <td>{'neg': 0.0, 'neu': 0.795, 'pos': 0.205, 'comp...</td>\n",
              "    </tr>\n",
              "    <tr>\n",
              "      <th>18</th>\n",
              "      <td>Artificial Intelligence in Medicine: current t...</td>\n",
              "      <td>{'neg': 0.0, 'neu': 0.78, 'pos': 0.22, 'compou...</td>\n",
              "    </tr>\n",
              "    <tr>\n",
              "      <th>19</th>\n",
              "      <td>#ArtificialIntelligence may help develop clean...</td>\n",
              "      <td>{'neg': 0.0, 'neu': 0.625, 'pos': 0.375, 'comp...</td>\n",
              "    </tr>\n",
              "    <tr>\n",
              "      <th>20</th>\n",
              "      <td>RT @FrankAraby: Panelists ready to Discuss the...</td>\n",
              "      <td>{'neg': 0.0, 'neu': 0.741, 'pos': 0.259, 'comp...</td>\n",
              "    </tr>\n",
              "    <tr>\n",
              "      <th>21</th>\n",
              "      <td>@elonmusk Watch out Man ⚠❗⚠❗⚠ Danger Danger 🌪⚡...</td>\n",
              "      <td>{'neg': 0.322, 'neu': 0.616, 'pos': 0.062, 'co...</td>\n",
              "    </tr>\n",
              "    <tr>\n",
              "      <th>22</th>\n",
              "      <td>RT @lexfridman: Here is the introductory lectu...</td>\n",
              "      <td>{'neg': 0.0, 'neu': 0.846, 'pos': 0.154, 'comp...</td>\n",
              "    </tr>\n",
              "    <tr>\n",
              "      <th>23</th>\n",
              "      <td>Adopting Artificial Intelligence: Creating the...</td>\n",
              "      <td>{'neg': 0.0, 'neu': 0.602, 'pos': 0.398, 'comp...</td>\n",
              "    </tr>\n",
              "    <tr>\n",
              "      <th>24</th>\n",
              "      <td>RT @futureof_work: Debunking The Myths And Rea...</td>\n",
              "      <td>{'neg': 0.0, 'neu': 0.807, 'pos': 0.193, 'comp...</td>\n",
              "    </tr>\n",
              "    <tr>\n",
              "      <th>25</th>\n",
              "      <td>RT @SadhguruJV: Technology &amp;amp; artificial in...</td>\n",
              "      <td>{'neg': 0.0, 'neu': 0.602, 'pos': 0.398, 'comp...</td>\n",
              "    </tr>\n",
              "    <tr>\n",
              "      <th>26</th>\n",
              "      <td>Adopting Artificial Intelligence: Closing Rema...</td>\n",
              "      <td>{'neg': 0.0, 'neu': 0.659, 'pos': 0.341, 'comp...</td>\n",
              "    </tr>\n",
              "    <tr>\n",
              "      <th>27</th>\n",
              "      <td>Forbes shows how #AI will change five of the w...</td>\n",
              "      <td>{'neg': 0.118, 'neu': 0.882, 'pos': 0.0, 'comp...</td>\n",
              "    </tr>\n",
              "    <tr>\n",
              "      <th>28</th>\n",
              "      <td>RT @wpacademypro: #Discount | $11.99 Offer | #...</td>\n",
              "      <td>{'neg': 0.0, 'neu': 0.601, 'pos': 0.399, 'comp...</td>\n",
              "    </tr>\n",
              "    <tr>\n",
              "      <th>29</th>\n",
              "      <td>RT @Pts4Chg: What does AI mean for care experi...</td>\n",
              "      <td>{'neg': 0.0, 'neu': 0.856, 'pos': 0.144, 'comp...</td>\n",
              "    </tr>\n",
              "    <tr>\n",
              "      <th>30</th>\n",
              "      <td>Bangalore - Artificial Intelligence Training &amp;...</td>\n",
              "      <td>{'neg': 0.0, 'neu': 0.795, 'pos': 0.205, 'comp...</td>\n",
              "    </tr>\n",
              "    <tr>\n",
              "      <th>31</th>\n",
              "      <td>RT @futureof_work: Debunking The Myths And Rea...</td>\n",
              "      <td>{'neg': 0.0, 'neu': 0.807, 'pos': 0.193, 'comp...</td>\n",
              "    </tr>\n",
              "    <tr>\n",
              "      <th>32</th>\n",
              "      <td>RT @DavidTareen: Digital Billboards Open-up Ad...</td>\n",
              "      <td>{'neg': 0.0, 'neu': 0.795, 'pos': 0.205, 'comp...</td>\n",
              "    </tr>\n",
              "    <tr>\n",
              "      <th>33</th>\n",
              "      <td>RT @POOJABI03239159: Machine Learning and Arti...</td>\n",
              "      <td>{'neg': 0.0, 'neu': 0.853, 'pos': 0.147, 'comp...</td>\n",
              "    </tr>\n",
              "    <tr>\n",
              "      <th>34</th>\n",
              "      <td>Well worth a read. The #ethical challenges of ...</td>\n",
              "      <td>{'neg': 0.0, 'neu': 0.751, 'pos': 0.249, 'comp...</td>\n",
              "    </tr>\n",
              "    <tr>\n",
              "      <th>35</th>\n",
              "      <td>RT @POOJABI03239159: Machine Learning and Arti...</td>\n",
              "      <td>{'neg': 0.0, 'neu': 0.853, 'pos': 0.147, 'comp...</td>\n",
              "    </tr>\n",
              "    <tr>\n",
              "      <th>36</th>\n",
              "      <td>RT @mitsmr: These 4 soft skills become more va...</td>\n",
              "      <td>{'neg': 0.0, 'neu': 0.75, 'pos': 0.25, 'compou...</td>\n",
              "    </tr>\n",
              "    <tr>\n",
              "      <th>37</th>\n",
              "      <td>Debunking The Myths And Reality Of Artificial ...</td>\n",
              "      <td>{'neg': 0.0, 'neu': 0.78, 'pos': 0.22, 'compou...</td>\n",
              "    </tr>\n",
              "    <tr>\n",
              "      <th>38</th>\n",
              "      <td>RT @NaturAmazingg: https://t.co/IB8V1cwmzp</td>\n",
              "      <td>{'neg': 0.0, 'neu': 1.0, 'pos': 0.0, 'compound...</td>\n",
              "    </tr>\n",
              "    <tr>\n",
              "      <th>39</th>\n",
              "      <td>RT @ai_techservices: 'Artificial Intelligence ...</td>\n",
              "      <td>{'neg': 0.0, 'neu': 0.622, 'pos': 0.378, 'comp...</td>\n",
              "    </tr>\n",
              "    <tr>\n",
              "      <th>40</th>\n",
              "      <td>RT @SamHarrisOrg: \"Scientists have developed a...</td>\n",
              "      <td>{'neg': 0.0, 'neu': 1.0, 'pos': 0.0, 'compound...</td>\n",
              "    </tr>\n",
              "    <tr>\n",
              "      <th>41</th>\n",
              "      <td>RT @Globus_ai: Artificial Intelligence - Workf...</td>\n",
              "      <td>{'neg': 0.0, 'neu': 0.735, 'pos': 0.265, 'comp...</td>\n",
              "    </tr>\n",
              "    <tr>\n",
              "      <th>42</th>\n",
              "      <td>RT @norwayspariss: https://t.co/4tszJvUH48</td>\n",
              "      <td>{'neg': 0.0, 'neu': 1.0, 'pos': 0.0, 'compound...</td>\n",
              "    </tr>\n",
              "    <tr>\n",
              "      <th>43</th>\n",
              "      <td>Machine Learning and Artificial Intelligence p...</td>\n",
              "      <td>{'neg': 0.0, 'neu': 0.838, 'pos': 0.162, 'comp...</td>\n",
              "    </tr>\n",
              "    <tr>\n",
              "      <th>44</th>\n",
              "      <td>RT @NaturAmazingg: https://t.co/OIXxNW9VyW</td>\n",
              "      <td>{'neg': 0.0, 'neu': 1.0, 'pos': 0.0, 'compound...</td>\n",
              "    </tr>\n",
              "    <tr>\n",
              "      <th>45</th>\n",
              "      <td>Decentralized Artificial Intelligence System \\...</td>\n",
              "      <td>{'neg': 0.0, 'neu': 0.628, 'pos': 0.372, 'comp...</td>\n",
              "    </tr>\n",
              "    <tr>\n",
              "      <th>46</th>\n",
              "      <td>RT @Jeeva04: @SadhguruJV @BBCYaldaHakim \"We Ar...</td>\n",
              "      <td>{'neg': 0.0, 'neu': 0.927, 'pos': 0.073, 'comp...</td>\n",
              "    </tr>\n",
              "    <tr>\n",
              "      <th>47</th>\n",
              "      <td>RT @SadhguruJV: Technology &amp;amp; artificial in...</td>\n",
              "      <td>{'neg': 0.0, 'neu': 0.602, 'pos': 0.398, 'comp...</td>\n",
              "    </tr>\n",
              "    <tr>\n",
              "      <th>48</th>\n",
              "      <td>RT @SadhguruJV: Technology &amp;amp; artificial in...</td>\n",
              "      <td>{'neg': 0.0, 'neu': 0.602, 'pos': 0.398, 'comp...</td>\n",
              "    </tr>\n",
              "    <tr>\n",
              "      <th>49</th>\n",
              "      <td>RT @norwayspariss: https://t.co/vazREMS7xn</td>\n",
              "      <td>{'neg': 0.0, 'neu': 1.0, 'pos': 0.0, 'compound...</td>\n",
              "    </tr>\n",
              "  </tbody>\n",
              "</table>\n",
              "</div>"
            ],
            "text/plain": [
              "                                               Tweets  \\\n",
              "0   RT @EricTopol: A patient (w/o #diabetes) of mi...   \n",
              "1   RT @dez_blanchfield: \"data has a nasty habit o...   \n",
              "2   RT @dwf: Compared to the self-congratulatory t...   \n",
              "3   RT @SadhguruJV: Technology &amp; artificial in...   \n",
              "4           RT @AnimalsPostt: https://t.co/A10WytzVAh   \n",
              "5   RT @STEPSociety: Alexa, draft my will! Hannah ...   \n",
              "6   RT @IainLJBrown: Adopting Artificial Intellige...   \n",
              "7   RT @ipfconline1: Banks &amp; financial institu...   \n",
              "8   Forget about artificial intelligence, extended...   \n",
              "9   RT @IainLJBrown: Adopting Artificial Intellige...   \n",
              "10  RT @Pts4Chg: What does AI mean for care experi...   \n",
              "11  Rimilia and Microsoft Co-Host Artificial Intel...   \n",
              "12  Forget about artificial intelligence, extended...   \n",
              "13  RT @SadhguruJV: Technology &amp; artificial in...   \n",
              "14        RT @ItsCutecouplee: https://t.co/GNAApS0t5k   \n",
              "15  RT @SamHarrisOrg: \"Scientists have developed a...   \n",
              "16  Researchers use artificial intelligence to sum...   \n",
              "17  Impact of Artificial Intelligence in the Healt...   \n",
              "18  Artificial Intelligence in Medicine: current t...   \n",
              "19  #ArtificialIntelligence may help develop clean...   \n",
              "20  RT @FrankAraby: Panelists ready to Discuss the...   \n",
              "21  @elonmusk Watch out Man ⚠❗⚠❗⚠ Danger Danger 🌪⚡...   \n",
              "22  RT @lexfridman: Here is the introductory lectu...   \n",
              "23  Adopting Artificial Intelligence: Creating the...   \n",
              "24  RT @futureof_work: Debunking The Myths And Rea...   \n",
              "25  RT @SadhguruJV: Technology &amp; artificial in...   \n",
              "26  Adopting Artificial Intelligence: Closing Rema...   \n",
              "27  Forbes shows how #AI will change five of the w...   \n",
              "28  RT @wpacademypro: #Discount | $11.99 Offer | #...   \n",
              "29  RT @Pts4Chg: What does AI mean for care experi...   \n",
              "30  Bangalore - Artificial Intelligence Training &...   \n",
              "31  RT @futureof_work: Debunking The Myths And Rea...   \n",
              "32  RT @DavidTareen: Digital Billboards Open-up Ad...   \n",
              "33  RT @POOJABI03239159: Machine Learning and Arti...   \n",
              "34  Well worth a read. The #ethical challenges of ...   \n",
              "35  RT @POOJABI03239159: Machine Learning and Arti...   \n",
              "36  RT @mitsmr: These 4 soft skills become more va...   \n",
              "37  Debunking The Myths And Reality Of Artificial ...   \n",
              "38         RT @NaturAmazingg: https://t.co/IB8V1cwmzp   \n",
              "39  RT @ai_techservices: 'Artificial Intelligence ...   \n",
              "40  RT @SamHarrisOrg: \"Scientists have developed a...   \n",
              "41  RT @Globus_ai: Artificial Intelligence - Workf...   \n",
              "42         RT @norwayspariss: https://t.co/4tszJvUH48   \n",
              "43  Machine Learning and Artificial Intelligence p...   \n",
              "44         RT @NaturAmazingg: https://t.co/OIXxNW9VyW   \n",
              "45  Decentralized Artificial Intelligence System \\...   \n",
              "46  RT @Jeeva04: @SadhguruJV @BBCYaldaHakim \"We Ar...   \n",
              "47  RT @SadhguruJV: Technology &amp; artificial in...   \n",
              "48  RT @SadhguruJV: Technology &amp; artificial in...   \n",
              "49         RT @norwayspariss: https://t.co/vazREMS7xn   \n",
              "\n",
              "                                             polarity  \n",
              "0   {'neg': 0.0, 'neu': 1.0, 'pos': 0.0, 'compound...  \n",
              "1   {'neg': 0.149, 'neu': 0.662, 'pos': 0.189, 'co...  \n",
              "2   {'neg': 0.0, 'neu': 1.0, 'pos': 0.0, 'compound...  \n",
              "3   {'neg': 0.0, 'neu': 0.602, 'pos': 0.398, 'comp...  \n",
              "4   {'neg': 0.0, 'neu': 1.0, 'pos': 0.0, 'compound...  \n",
              "5   {'neg': 0.0, 'neu': 0.73, 'pos': 0.27, 'compou...  \n",
              "6   {'neg': 0.0, 'neu': 0.71, 'pos': 0.29, 'compou...  \n",
              "7   {'neg': 0.0, 'neu': 0.672, 'pos': 0.328, 'comp...  \n",
              "8   {'neg': 0.126, 'neu': 0.464, 'pos': 0.411, 'co...  \n",
              "9   {'neg': 0.0, 'neu': 0.71, 'pos': 0.29, 'compou...  \n",
              "10  {'neg': 0.0, 'neu': 0.856, 'pos': 0.144, 'comp...  \n",
              "11  {'neg': 0.0, 'neu': 0.7, 'pos': 0.3, 'compound...  \n",
              "12  {'neg': 0.126, 'neu': 0.464, 'pos': 0.411, 'co...  \n",
              "13  {'neg': 0.0, 'neu': 0.602, 'pos': 0.398, 'comp...  \n",
              "14  {'neg': 0.0, 'neu': 1.0, 'pos': 0.0, 'compound...  \n",
              "15  {'neg': 0.0, 'neu': 1.0, 'pos': 0.0, 'compound...  \n",
              "16  {'neg': 0.0, 'neu': 0.78, 'pos': 0.22, 'compou...  \n",
              "17  {'neg': 0.0, 'neu': 0.795, 'pos': 0.205, 'comp...  \n",
              "18  {'neg': 0.0, 'neu': 0.78, 'pos': 0.22, 'compou...  \n",
              "19  {'neg': 0.0, 'neu': 0.625, 'pos': 0.375, 'comp...  \n",
              "20  {'neg': 0.0, 'neu': 0.741, 'pos': 0.259, 'comp...  \n",
              "21  {'neg': 0.322, 'neu': 0.616, 'pos': 0.062, 'co...  \n",
              "22  {'neg': 0.0, 'neu': 0.846, 'pos': 0.154, 'comp...  \n",
              "23  {'neg': 0.0, 'neu': 0.602, 'pos': 0.398, 'comp...  \n",
              "24  {'neg': 0.0, 'neu': 0.807, 'pos': 0.193, 'comp...  \n",
              "25  {'neg': 0.0, 'neu': 0.602, 'pos': 0.398, 'comp...  \n",
              "26  {'neg': 0.0, 'neu': 0.659, 'pos': 0.341, 'comp...  \n",
              "27  {'neg': 0.118, 'neu': 0.882, 'pos': 0.0, 'comp...  \n",
              "28  {'neg': 0.0, 'neu': 0.601, 'pos': 0.399, 'comp...  \n",
              "29  {'neg': 0.0, 'neu': 0.856, 'pos': 0.144, 'comp...  \n",
              "30  {'neg': 0.0, 'neu': 0.795, 'pos': 0.205, 'comp...  \n",
              "31  {'neg': 0.0, 'neu': 0.807, 'pos': 0.193, 'comp...  \n",
              "32  {'neg': 0.0, 'neu': 0.795, 'pos': 0.205, 'comp...  \n",
              "33  {'neg': 0.0, 'neu': 0.853, 'pos': 0.147, 'comp...  \n",
              "34  {'neg': 0.0, 'neu': 0.751, 'pos': 0.249, 'comp...  \n",
              "35  {'neg': 0.0, 'neu': 0.853, 'pos': 0.147, 'comp...  \n",
              "36  {'neg': 0.0, 'neu': 0.75, 'pos': 0.25, 'compou...  \n",
              "37  {'neg': 0.0, 'neu': 0.78, 'pos': 0.22, 'compou...  \n",
              "38  {'neg': 0.0, 'neu': 1.0, 'pos': 0.0, 'compound...  \n",
              "39  {'neg': 0.0, 'neu': 0.622, 'pos': 0.378, 'comp...  \n",
              "40  {'neg': 0.0, 'neu': 1.0, 'pos': 0.0, 'compound...  \n",
              "41  {'neg': 0.0, 'neu': 0.735, 'pos': 0.265, 'comp...  \n",
              "42  {'neg': 0.0, 'neu': 1.0, 'pos': 0.0, 'compound...  \n",
              "43  {'neg': 0.0, 'neu': 0.838, 'pos': 0.162, 'comp...  \n",
              "44  {'neg': 0.0, 'neu': 1.0, 'pos': 0.0, 'compound...  \n",
              "45  {'neg': 0.0, 'neu': 0.628, 'pos': 0.372, 'comp...  \n",
              "46  {'neg': 0.0, 'neu': 0.927, 'pos': 0.073, 'comp...  \n",
              "47  {'neg': 0.0, 'neu': 0.602, 'pos': 0.398, 'comp...  \n",
              "48  {'neg': 0.0, 'neu': 0.602, 'pos': 0.398, 'comp...  \n",
              "49  {'neg': 0.0, 'neu': 1.0, 'pos': 0.0, 'compound...  "
            ]
          },
          "metadata": {
            "tags": []
          }
        }
      ]
    },
    {
      "metadata": {
        "id": "qrHoKgzMKRHI",
        "colab_type": "code",
        "colab": {
          "base_uri": "https://localhost:8080/",
          "height": 36
        },
        "outputId": "7952ded9-3465-4b73-c0f6-8411a483ad13"
      },
      "cell_type": "code",
      "source": [
        "type(data['polarity'][0])"
      ],
      "execution_count": 12,
      "outputs": [
        {
          "output_type": "execute_result",
          "data": {
            "text/plain": [
              "dict"
            ]
          },
          "metadata": {
            "tags": []
          },
          "execution_count": 12
        }
      ]
    },
    {
      "metadata": {
        "id": "y67LPJOmLARE",
        "colab_type": "code",
        "colab": {
          "base_uri": "https://localhost:8080/",
          "height": 36
        },
        "outputId": "14df14ad-ffaf-446d-fb98-ce5e892bfecc"
      },
      "cell_type": "code",
      "source": [
        "data['Tweets'][22]"
      ],
      "execution_count": 14,
      "outputs": [
        {
          "output_type": "execute_result",
          "data": {
            "text/plain": [
              "'RT @lexfridman: Here is the introductory lecture on Human-Centered Artificial Intelligence (MIT 6.S093) I taught in February. I believe tha…'"
            ]
          },
          "metadata": {
            "tags": []
          },
          "execution_count": 14
        }
      ]
    },
    {
      "metadata": {
        "id": "ICVjIqSgKjDg",
        "colab_type": "code",
        "colab": {
          "base_uri": "https://localhost:8080/",
          "height": 36
        },
        "outputId": "acd54060-d7f6-4d5f-ed71-86a59d88eb16"
      },
      "cell_type": "code",
      "source": [
        "data['polarity'][22]"
      ],
      "execution_count": 13,
      "outputs": [
        {
          "output_type": "execute_result",
          "data": {
            "text/plain": [
              "{'compound': 0.4767, 'neg': 0.0, 'neu': 0.846, 'pos': 0.154}"
            ]
          },
          "metadata": {
            "tags": []
          },
          "execution_count": 13
        }
      ]
    },
    {
      "metadata": {
        "id": "HRSUIsg3K5j5",
        "colab_type": "code",
        "colab": {
          "base_uri": "https://localhost:8080/",
          "height": 56
        },
        "outputId": "7cc15645-9309-4dce-b149-5a113bccc863"
      },
      "cell_type": "code",
      "source": [
        "print(data['Tweets'][27],data['polarity'][27])"
      ],
      "execution_count": 15,
      "outputs": [
        {
          "output_type": "stream",
          "text": [
            "Forbes shows how #AI will change five of the world's biggest industries. Unfortunately they forgot about the energy… https://t.co/FvayOQJhSz {'neg': 0.118, 'neu': 0.882, 'pos': 0.0, 'compound': -0.34}\n"
          ],
          "name": "stdout"
        }
      ]
    },
    {
      "metadata": {
        "id": "-w69vcNtNUkq",
        "colab_type": "text"
      },
      "cell_type": "markdown",
      "source": [
        "### Here 'compound' is  **aggregated score**\n"
      ]
    },
    {
      "metadata": {
        "id": "2u5ty0uWNhm5",
        "colab_type": "code",
        "colab": {}
      },
      "cell_type": "code",
      "source": [
        "## Normalize the score to be between -1 and 1 using an alpha that approximates the max expected value"
      ],
      "execution_count": 0,
      "outputs": []
    },
    {
      "metadata": {
        "id": "Sd4qbCVYNqhl",
        "colab_type": "code",
        "colab": {}
      },
      "cell_type": "code",
      "source": [
        ""
      ],
      "execution_count": 0,
      "outputs": []
    }
  ]
}